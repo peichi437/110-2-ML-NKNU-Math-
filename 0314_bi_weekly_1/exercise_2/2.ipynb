{
 "cells": [
  {
   "cell_type": "code",
   "execution_count": 1,
   "metadata": {},
   "outputs": [],
   "source": [
    "from sklearn.datasets import load_wine\n",
    "from sklearn.neighbors import KNeighborsClassifier\n",
    "from sklearn.naive_bayes import GaussianNB\n",
    "from sklearn.model_selection import train_test_split\n",
    "from sklearn.preprocessing import StandardScaler"
   ]
  },
  {
   "cell_type": "code",
   "execution_count": 2,
   "metadata": {},
   "outputs": [],
   "source": [
    "wine = load_wine()\n",
    "X=wine.data\n",
    "y=wine.target"
   ]
  },
  {
   "cell_type": "markdown",
   "metadata": {},
   "source": [
    "# KNN - 3"
   ]
  },
  {
   "cell_type": "markdown",
   "metadata": {},
   "source": [
    "## basic"
   ]
  },
  {
   "cell_type": "code",
   "execution_count": 3,
   "metadata": {},
   "outputs": [
    {
     "name": "stdout",
     "output_type": "stream",
     "text": [
      "特徵不做normalization: 0.6777777777777778\n"
     ]
    }
   ],
   "source": [
    "scores = 0\n",
    "for i in range(1, 6):\n",
    "    xtr, xte, ytr, yte = train_test_split(X,y,test_size = 0.3)\n",
    "    knn = KNeighborsClassifier(n_neighbors=3)\n",
    "    knn.fit(xtr,ytr)\n",
    "    scores+=knn.score(xte,yte)\n",
    "print(f'特徵不做normalization: {scores/5}')"
   ]
  },
  {
   "cell_type": "markdown",
   "metadata": {},
   "source": [
    "## normalization"
   ]
  },
  {
   "cell_type": "code",
   "execution_count": 4,
   "metadata": {},
   "outputs": [
    {
     "name": "stdout",
     "output_type": "stream",
     "text": [
      "特徵normalization: 0.9296296296296296\n"
     ]
    }
   ],
   "source": [
    "scores = 0\n",
    "for i in range(1, 6):\n",
    "    xtr, xte, ytr, yte = train_test_split(X,y,test_size = 0.3)\n",
    "    scaler = StandardScaler().fit(xtr)\n",
    "    xtr = scaler.transform(xtr)\n",
    "    xte = scaler.transform(xte)\n",
    "    knn = KNeighborsClassifier(n_neighbors=3)\n",
    "    knn.fit(xtr,ytr)\n",
    "    scores+=knn.score(xte,yte)\n",
    "print(f'特徵normalization: {scores/5}')"
   ]
  },
  {
   "cell_type": "markdown",
   "metadata": {},
   "source": [
    "# Naive Bayes"
   ]
  },
  {
   "cell_type": "markdown",
   "metadata": {},
   "source": [
    "## Basic"
   ]
  },
  {
   "cell_type": "code",
   "execution_count": 5,
   "metadata": {},
   "outputs": [
    {
     "name": "stdout",
     "output_type": "stream",
     "text": [
      "特徵不做normalization: 0.9740740740740741\n"
     ]
    }
   ],
   "source": [
    "scores = 0\n",
    "for i in range(1, 6):\n",
    "    xtr, xte, ytr, yte = train_test_split(X,y,test_size = 0.3)\n",
    "    gaus = GaussianNB()\n",
    "    gaus.fit(xtr,ytr)\n",
    "    scores+=gaus.score(xte,yte)\n",
    "print(f'特徵不做normalization: {scores/5}')"
   ]
  },
  {
   "cell_type": "markdown",
   "metadata": {},
   "source": [
    "## Normalization"
   ]
  },
  {
   "cell_type": "code",
   "execution_count": 6,
   "metadata": {},
   "outputs": [
    {
     "name": "stdout",
     "output_type": "stream",
     "text": [
      "特徵normalization: 0.9666666666666666\n"
     ]
    }
   ],
   "source": [
    "scores = 0\n",
    "for i in range(1, 6):\n",
    "    xtr, xte, ytr, yte = train_test_split(X,y,test_size = 0.3)\n",
    "    scaler = StandardScaler().fit(xtr)\n",
    "    xtr = scaler.transform(xtr)\n",
    "    xte = scaler.transform(xte)\n",
    "    gaus = GaussianNB()\n",
    "    gaus.fit(xtr,ytr)\n",
    "    scores+=gaus.score(xte,yte)\n",
    "print(f'特徵normalization: {scores/5}')"
   ]
  },
  {
   "cell_type": "code",
   "execution_count": null,
   "metadata": {},
   "outputs": [],
   "source": []
  }
 ],
 "metadata": {
  "interpreter": {
   "hash": "aee8b7b246df8f9039afb4144a1f6fd8d2ca17a180786b69acc140d282b71a49"
  },
  "kernelspec": {
   "display_name": "Python 3.7.8 64-bit",
   "language": "python",
   "name": "python3"
  },
  "language_info": {
   "codemirror_mode": {
    "name": "ipython",
    "version": 3
   },
   "file_extension": ".py",
   "mimetype": "text/x-python",
   "name": "python",
   "nbconvert_exporter": "python",
   "pygments_lexer": "ipython3",
   "version": "3.7.8"
  },
  "orig_nbformat": 4
 },
 "nbformat": 4,
 "nbformat_minor": 2
}
