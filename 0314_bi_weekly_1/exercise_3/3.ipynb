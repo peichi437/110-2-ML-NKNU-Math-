{
 "cells": [
  {
   "cell_type": "code",
   "execution_count": 8,
   "metadata": {},
   "outputs": [],
   "source": [
    "from sklearn.datasets import load_iris\n",
    "from sklearn.model_selection import train_test_split\n",
    "from sklearn.naive_bayes import GaussianNB\n",
    "import numpy as np"
   ]
  },
  {
   "cell_type": "code",
   "execution_count": 9,
   "metadata": {},
   "outputs": [],
   "source": [
    "iris = load_iris()\n",
    "X = iris.data\n",
    "y = iris.target\n",
    "Xtr, Xte, ytr, yte = train_test_split(X, y, test_size=0.3)"
   ]
  },
  {
   "cell_type": "code",
   "execution_count": 10,
   "metadata": {},
   "outputs": [
    {
     "name": "stdout",
     "output_type": "stream",
     "text": [
      "確認features數量：4種\n"
     ]
    }
   ],
   "source": [
    "print(f'確認features數量：{X.shape[1]}種')"
   ]
  },
  {
   "cell_type": "code",
   "execution_count": 11,
   "metadata": {},
   "outputs": [],
   "source": [
    "gaus = GaussianNB()"
   ]
  },
  {
   "cell_type": "code",
   "execution_count": 12,
   "metadata": {},
   "outputs": [
    {
     "name": "stdout",
     "output_type": "stream",
     "text": [
      "Acc = 0.9777777777777777\n",
      "best: petal width (cm), second: petal length (cm)\n"
     ]
    }
   ],
   "source": [
    "score = 0\n",
    "for i in range(X.shape[1]):\n",
    "    gaus.fit(Xtr[:, i:i+1], ytr)\n",
    "    if score < gaus.score(Xte[:, i:i+1], yte): best = i\n",
    "score = 0\n",
    "for i in range(X.shape[1]):\n",
    "    if i == best: continue\n",
    "    gaus.fit(np.concatenate((Xtr[:, best:best+1], Xtr[:, i:i+1]), 1), ytr)\n",
    "    if score < gaus.score(np.concatenate((Xte[:, best:best+1], Xte[:, i:i+1]), 1), yte): second = i\n",
    "gaus.fit(np.concatenate((Xtr[:, best:best+1], Xtr[:, second:second+1]), 1), ytr)\n",
    "print(f\"Acc = {gaus.score(np.concatenate((Xte[:, best:best+1], Xte[:, second:second+1]), 1), yte)}\")\n",
    "print(f\"best: {iris.feature_names[best]}, second: {iris.feature_names[second]}\")"
   ]
  },
  {
   "cell_type": "code",
   "execution_count": null,
   "metadata": {},
   "outputs": [],
   "source": []
  }
 ],
 "metadata": {
  "interpreter": {
   "hash": "aee8b7b246df8f9039afb4144a1f6fd8d2ca17a180786b69acc140d282b71a49"
  },
  "kernelspec": {
   "display_name": "Python 3.7.8 64-bit",
   "language": "python",
   "name": "python3"
  },
  "language_info": {
   "codemirror_mode": {
    "name": "ipython",
    "version": 3
   },
   "file_extension": ".py",
   "mimetype": "text/x-python",
   "name": "python",
   "nbconvert_exporter": "python",
   "pygments_lexer": "ipython3",
   "version": "3.7.8"
  },
  "orig_nbformat": 4
 },
 "nbformat": 4,
 "nbformat_minor": 2
}
